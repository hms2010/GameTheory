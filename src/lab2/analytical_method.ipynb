{
 "cells": [
  {
   "cell_type": "markdown",
   "metadata": {},
   "source": [
    "# Условие (вариант 1)"
   ]
  },
  {
   "cell_type": "code",
   "execution_count": 9,
   "metadata": {},
   "outputs": [],
   "source": [
    "a = -5\n",
    "b = 5/12\n",
    "c = 10/3\n",
    "d = -2/3\n",
    "e = -4/3"
   ]
  },
  {
   "cell_type": "markdown",
   "metadata": {},
   "source": [
    "Зададим функцию ядра H(x, y) в соответствии с коэффициентами выше:"
   ]
  },
  {
   "cell_type": "code",
   "execution_count": 10,
   "metadata": {},
   "outputs": [
    {
     "name": "stdout",
     "output_type": "stream",
     "text": [
      "-5*x^2 + 10/3*x*y + 5/12*y^2 - 2/3*x - 4/3*y\n"
     ]
    },
    {
     "data": {
      "text/html": [
       "<html><script type=\"math/tex; mode=display\">\\newcommand{\\Bold}[1]{\\mathbf{#1}}-5 \\, x^{2} + \\frac{10}{3} \\, x y + \\frac{5}{12} \\, y^{2} - \\frac{2}{3} \\, x - \\frac{4}{3} \\, y</script></html>"
      ],
      "text/plain": [
       "-5*x^2 + 10/3*x*y + 5/12*y^2 - 2/3*x - 4/3*y"
      ]
     },
     "metadata": {},
     "output_type": "display_data"
    }
   ],
   "source": [
    "var('x y')\n",
    "H = a*x^2 + b*y^2 + c*x*y + d*x + e*y\n",
    "print H\n",
    "H.show()"
   ]
  },
  {
   "cell_type": "markdown",
   "metadata": {},
   "source": [
    "# Решение"
   ]
  },
  {
   "cell_type": "markdown",
   "metadata": {},
   "source": [
    "Проверим, принадлежит ли игра классу выпукло-вогнутых игр:"
   ]
  },
  {
   "cell_type": "code",
   "execution_count": 11,
   "metadata": {},
   "outputs": [
    {
     "name": "stdout",
     "output_type": "stream",
     "text": [
      "Игра, заданная ядром H(x, y), выпукло-вогнутая\n",
      "Производная Hxx =  -10\n",
      "Производная Hyy =  5/6\n"
     ]
    }
   ],
   "source": [
    "Hxx = H.differentiate(x, 2)\n",
    "Hyy = H.differentiate(y, 2)\n",
    "if Hxx < 0 and Hyy > 0:\n",
    "    print 'Игра, заданная ядром H(x, y), выпукло-вогнутая'\n",
    "else:\n",
    "    print 'Игра, заданная ядром H(x, y), не является выпукло-вогнутой'\n",
    "print 'Производная Hxx = ', Hxx\n",
    "print 'Производная Hyy = ', Hyy  "
   ]
  },
  {
   "cell_type": "code",
   "execution_count": 12,
   "metadata": {},
   "outputs": [
    {
     "name": "stdout",
     "output_type": "stream",
     "text": [
      "Производная Hx =  -10*x + 10/3*y - 2/3\n",
      "Производная Hy =  10/3*x + 5/6*y - 4/3\n"
     ]
    },
    {
     "data": {
      "text/html": [
       "<html><script type=\"math/tex; mode=display\">\\newcommand{\\Bold}[1]{\\mathbf{#1}}-10 \\, x + \\frac{10}{3} \\, y - \\frac{2}{3}</script></html>"
      ],
      "text/plain": [
       "-10*x + 10/3*y - 2/3"
      ]
     },
     "metadata": {},
     "output_type": "display_data"
    },
    {
     "data": {
      "text/html": [
       "<html><script type=\"math/tex; mode=display\">\\newcommand{\\Bold}[1]{\\mathbf{#1}}\\frac{10}{3} \\, x + \\frac{5}{6} \\, y - \\frac{4}{3}</script></html>"
      ],
      "text/plain": [
       "10/3*x + 5/6*y - 4/3"
      ]
     },
     "metadata": {},
     "output_type": "display_data"
    }
   ],
   "source": [
    "Hx = H.differentiate(x)\n",
    "Hy = H.differentiate(y)\n",
    "print 'Производная Hx = ', Hx\n",
    "print 'Производная Hy = ', Hy\n",
    "Hx.show()\n",
    "Hy.show()\n"
   ]
  },
  {
   "cell_type": "code",
   "execution_count": 13,
   "metadata": {},
   "outputs": [
    {
     "name": "stdout",
     "output_type": "stream",
     "text": [
      "psi = 1/3*y - 1/15\n",
      "phi = -4*x + 8/5\n"
     ]
    },
    {
     "data": {
      "text/html": [
       "<html><script type=\"math/tex; mode=display\">\\newcommand{\\Bold}[1]{\\mathbf{#1}}\\frac{1}{3} \\, y - \\frac{1}{15}</script></html>"
      ],
      "text/plain": [
       "1/3*y - 1/15"
      ]
     },
     "metadata": {},
     "output_type": "display_data"
    },
    {
     "data": {
      "text/html": [
       "<html><script type=\"math/tex; mode=display\">\\newcommand{\\Bold}[1]{\\mathbf{#1}}-4 \\, x + \\frac{8}{5}</script></html>"
      ],
      "text/plain": [
       "-4*x + 8/5"
      ]
     },
     "metadata": {},
     "output_type": "display_data"
    }
   ],
   "source": [
    "psi = -(c*y + d) / (2*a)\n",
    "phi = -(c*x + e) / (2*b)\n",
    "print 'psi =', psi\n",
    "print 'phi =', phi\n",
    "psi.show()\n",
    "phi.show()"
   ]
  },
  {
   "cell_type": "code",
   "execution_count": 14,
   "metadata": {},
   "outputs": [
    {
     "name": "stdout",
     "output_type": "stream",
     "text": [
      "x == (1/5)\n",
      "y == (4/5)\n"
     ]
    },
    {
     "data": {
      "text/html": [
       "<html><script type=\"math/tex; mode=display\">\\newcommand{\\Bold}[1]{\\mathbf{#1}}x = \\left(\\frac{1}{5}\\right)</script></html>"
      ],
      "text/plain": [
       "x == (1/5)"
      ]
     },
     "metadata": {},
     "output_type": "display_data"
    },
    {
     "data": {
      "text/html": [
       "<html><script type=\"math/tex; mode=display\">\\newcommand{\\Bold}[1]{\\mathbf{#1}}y = \\left(\\frac{4}{5}\\right)</script></html>"
      ],
      "text/plain": [
       "y == (4/5)"
      ]
     },
     "metadata": {},
     "output_type": "display_data"
    }
   ],
   "source": [
    "sol = solve([x == psi, y == phi], x, y)\n",
    "x_sol = sol[0][0]\n",
    "y_sol = sol[0][1]\n",
    "print x_sol\n",
    "print y_sol\n",
    "x_sol.show()\n",
    "y_sol.show()"
   ]
  },
  {
   "cell_type": "code",
   "execution_count": 15,
   "metadata": {},
   "outputs": [],
   "source": [
    "x_sol = 1/5\n",
    "y_sol = 4/5"
   ]
  },
  {
   "cell_type": "code",
   "execution_count": 16,
   "metadata": {},
   "outputs": [
    {
     "name": "stdout",
     "output_type": "stream",
     "text": [
      "OK\n"
     ]
    }
   ],
   "source": [
    "if x_sol <= -e/c and y_sol >= -d/c:\n",
    "    print 'OK'\n",
    "else:\n",
    "    print \"Возможно, что-то пошло не так\""
   ]
  },
  {
   "cell_type": "markdown",
   "metadata": {},
   "source": [
    "Тогда седловая точка:"
   ]
  },
  {
   "cell_type": "code",
   "execution_count": 17,
   "metadata": {},
   "outputs": [
    {
     "name": "stdout",
     "output_type": "stream",
     "text": [
      "H(x,y) = -3/5\n"
     ]
    }
   ],
   "source": [
    "h = H(x_sol, y_sol)\n",
    "print 'H(x,y) =', h"
   ]
  }
 ],
 "metadata": {
  "kernelspec": {
   "display_name": "SageMath 8.9",
   "language": "sage",
   "name": "sagemath"
  },
  "language_info": {
   "codemirror_mode": {
    "name": "ipython",
    "version": 2
   },
   "file_extension": ".py",
   "mimetype": "text/x-python",
   "name": "python",
   "nbconvert_exporter": "python",
   "pygments_lexer": "ipython2",
   "version": "2.7.15"
  }
 },
 "nbformat": 4,
 "nbformat_minor": 2
}
