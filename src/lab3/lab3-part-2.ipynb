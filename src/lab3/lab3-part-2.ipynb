{
 "cells": [
  {
   "cell_type": "markdown",
   "metadata": {},
   "source": [
    "# Лабораторная работа 3\n",
    "## Неантагонистическая бескоалиционная игра двух игроков"
   ]
  },
  {
   "cell_type": "markdown",
   "metadata": {},
   "source": [
    "## Вторая часть"
   ]
  },
  {
   "cell_type": "code",
   "execution_count": 1,
   "metadata": {},
   "outputs": [],
   "source": [
    "class player_strategy:\n",
    "    strat = None\n",
    "    cost = None\n",
    "    def __init__(self, _strat, _cost):\n",
    "        self.strat = _strat\n",
    "        self.cost = _cost\n",
    "    def __eq__(self, other):\n",
    "        return isinstance(other, player_strategy) and self.strat == other.strat and self.cost == other.cost"
   ]
  },
  {
   "cell_type": "code",
   "execution_count": 2,
   "metadata": {},
   "outputs": [],
   "source": [
    "def check_nash_equilibrium(point, G):\n",
    "    na = len(G)\n",
    "    nb = len(G[0])\n",
    "    is_nash_equilibrium = True\n",
    "    # point = {'a': player_strategy(i, G[i][j]['a']), 'b': player_strategy(j, G[i][j]['b'])}\n",
    "    fixed_strat = point['a'].strat\n",
    "    for b_strat in range(nb):\n",
    "        if point['b'].strat == b_strat:\n",
    "            continue\n",
    "        if point['b'].cost < G[fixed_strat][b_strat]['b']:\n",
    "            is_nash_equilibrium = False\n",
    "\n",
    "    fixed_strat = point['b'].strat\n",
    "    for a_strat in range(na):\n",
    "        if point['a'].strat == a_strat:\n",
    "            continue\n",
    "        if point['a'].cost < G[a_strat][fixed_strat]['a']:\n",
    "            is_nash_equilibrium = False\n",
    "    return is_nash_equilibrium\n",
    "\n",
    "def get_nash_equilibrium_strats(G):\n",
    "    points = []\n",
    "    # point = {'a': player_strategy(i, G[i][j]['a']), 'b': player_strategy(j, G[i][j]['b'])}\n",
    "    na = len(G)\n",
    "    nb = len(G[0])\n",
    "    for i in range(na):\n",
    "        for j in range(nb):\n",
    "            point = {'a': player_strategy(i, G[i][j]['a']), 'b': player_strategy(j, G[i][j]['b'])}\n",
    "            if check_nash_equilibrium(point, G):\n",
    "                if point not in points:\n",
    "                    points.append(point)\n",
    "    return points"
   ]
  },
  {
   "cell_type": "code",
   "execution_count": 3,
   "metadata": {},
   "outputs": [],
   "source": [
    "def check_pareto_efficiency(point, G):\n",
    "    na = len(G)\n",
    "    nb = len(G[0])\n",
    "    # point = {'a': player_strategy(i, G[i][j]['a']), 'b': player_strategy(j, G[i][j]['b'])}\n",
    "    x = point['a'].strat\n",
    "    y = point['b'].strat\n",
    "\n",
    "    for a_strat in range(na):\n",
    "        for b_strat in range(nb):\n",
    "            if(G[a_strat][b_strat]['a'] >= G[x][y]['a'] and G[a_strat][b_strat]['b'] >= G[x][y]['b']):\n",
    "                if G[a_strat][b_strat]['a'] > G[x][y]['a'] or G[a_strat][b_strat]['b'] >  G[x][y]['b']:\n",
    "                    return False\n",
    "    return True\n",
    "\n",
    "def get_pareto_efficiency_strats(G):\n",
    "    points = []\n",
    "    # point = {'a': player_strategy(i, G[i][j]['a']), 'b': player_strategy(j, G[i][j]['b'])}\n",
    "    na = len(G)\n",
    "    nb = len(G[0])\n",
    "    for i in range(na):\n",
    "        for j in range(nb):\n",
    "            point = {'a': player_strategy(i, G[i][j]['a']), 'b': player_strategy(j, G[i][j]['b'])}\n",
    "            if check_pareto_efficiency(point, G):\n",
    "                if point not in points:\n",
    "                    points.append(point)\n",
    "    return points"
   ]
  },
  {
   "cell_type": "code",
   "execution_count": 4,
   "metadata": {},
   "outputs": [],
   "source": [
    "def get_common_elems(a, b):\n",
    "    common_elems = []\n",
    "    if len(a) > len(b):\n",
    "        for i in range(len(b)):\n",
    "            if b[i] in a:\n",
    "                common_elems.append(b[i])\n",
    "    else:\n",
    "        for i in range(len(a)):\n",
    "            if a[i] in b:\n",
    "                common_elems.append(a[i])\n",
    "    return common_elems"
   ]
  },
  {
   "cell_type": "code",
   "execution_count": 5,
   "metadata": {},
   "outputs": [],
   "source": [
    "def print_point(full_point):\n",
    "    # full_point = {'a': player_strategy(i, G[i][j]['a']), 'b': player_strategy(j, G[i][j]['b'])}\n",
    "    print(\"G[{:d}][{:d}] = ({:6.2f}/{:6.2f})\".format(full_point['a'].strat + 1, full_point['b'].strat + 1, full_point['a'].cost, full_point['b'].cost))"
   ]
  },
  {
   "cell_type": "code",
   "execution_count": 6,
   "metadata": {},
   "outputs": [],
   "source": [
    "def print_game_matrix(G):\n",
    "    for i in G:\n",
    "        line = \"\"\n",
    "        for j in i:\n",
    "            cur_elem = \"{:6.2f}/{:6.2f}\".format(j['a'], j['b'])\n",
    "            if not line:\n",
    "                line = cur_elem\n",
    "            else:\n",
    "                line = \", \".join([line, cur_elem])\n",
    "        print(line)"
   ]
  },
  {
   "cell_type": "code",
   "execution_count": 7,
   "metadata": {},
   "outputs": [],
   "source": [
    "A = Matrix([[5, 8], [7, 6]])\n",
    "B = Matrix([[0, 4], [6, 3]])\n",
    "G = []\n",
    "n, m = A.dimensions()\n",
    "for i in range(n):\n",
    "    G.append([{'a': a, 'b': b} for a, b in zip(A[i], B[i])])"
   ]
  },
  {
   "cell_type": "code",
   "execution_count": 8,
   "metadata": {},
   "outputs": [
    {
     "name": "stdout",
     "output_type": "stream",
     "text": [
      "Game cost matrix G:\n",
      "  5.00/  0.00,   8.00/  4.00\n",
      "  7.00/  6.00,   6.00/  3.00\n"
     ]
    }
   ],
   "source": [
    "print('Game cost matrix G:')\n",
    "print_game_matrix(G)"
   ]
  },
  {
   "cell_type": "code",
   "execution_count": 9,
   "metadata": {},
   "outputs": [],
   "source": [
    "nash_eq_points = get_nash_equilibrium_strats(G)\n",
    "pareto_opt_points = get_pareto_efficiency_strats(G)\n",
    "both = get_common_elems(nash_eq_points, pareto_opt_points)"
   ]
  },
  {
   "cell_type": "code",
   "execution_count": 10,
   "metadata": {},
   "outputs": [
    {
     "name": "stdout",
     "output_type": "stream",
     "text": [
      "Nash equilibrium points:\n",
      "G[1][2] = (  8.00/  4.00)\n",
      "G[2][1] = (  7.00/  6.00)\n",
      "Pareto optimal points:\n",
      "G[1][2] = (  8.00/  4.00)\n",
      "G[2][1] = (  7.00/  6.00)\n",
      "Both criterias:\n",
      "G[1][2] = (  8.00/  4.00)\n",
      "G[2][1] = (  7.00/  6.00)\n"
     ]
    }
   ],
   "source": [
    "print(\"Nash equilibrium points:\")\n",
    "for i in nash_eq_points:\n",
    "    print_point(i)\n",
    "print(\"Pareto optimal points:\")\n",
    "for i in pareto_opt_points:\n",
    "    print_point(i)\n",
    "print(\"Both criterias:\")\n",
    "for i in both:\n",
    "    print_point(i)"
   ]
  },
  {
   "cell_type": "code",
   "execution_count": 11,
   "metadata": {},
   "outputs": [],
   "source": [
    "u = Matrix(n * [1])\n",
    "v1 = 1 / (u * A.inverse() * u.transpose())[0][0]\n",
    "v2 = 1 / (u * B.inverse() * u.transpose())[0][0]\n",
    "x = v2 * u * B.inverse()\n",
    "y = v1 * A.inverse() * u.transpose()"
   ]
  },
  {
   "cell_type": "code",
   "execution_count": 12,
   "metadata": {},
   "outputs": [
    {
     "name": "stdout",
     "output_type": "stream",
     "text": [
      "v1 = 13/2, v2 = 24/7\n",
      "x = [3/7 4/7], y = [1/2 1/2]\n"
     ]
    }
   ],
   "source": [
    "print('v1 = {:}, v2 = {:}'.format(v1, v2))\n",
    "print('x = {:}, y = {:}'.format(x,y.transpose()))"
   ]
  }
 ],
 "metadata": {
  "kernelspec": {
   "display_name": "SageMath 8.9",
   "language": "sage",
   "name": "sagemath"
  },
  "language_info": {
   "codemirror_mode": {
    "name": "ipython",
    "version": 2
   },
   "file_extension": ".py",
   "mimetype": "text/x-python",
   "name": "python",
   "nbconvert_exporter": "python",
   "pygments_lexer": "ipython2",
   "version": "2.7.15"
  }
 },
 "nbformat": 4,
 "nbformat_minor": 2
}
