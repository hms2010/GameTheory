{
 "cells": [
  {
   "cell_type": "code",
   "execution_count": 31,
   "metadata": {},
   "outputs": [
    {
     "name": "stdout",
     "output_type": "stream",
     "text": [
      "Matrix C is:\n",
      "[ 1 11 11]\n",
      "[ 7  5  8]\n",
      "[16  6  2]\n"
     ]
    }
   ],
   "source": [
    "C = [\n",
    "        [1, 11, 11],\n",
    "        [7, 5, 8],\n",
    "        [16, 6, 2]\n",
    "    ]\n",
    "C = Matrix(C)\n",
    "print 'Matrix C is:'\n",
    "print C"
   ]
  },
  {
   "cell_type": "code",
   "execution_count": 32,
   "metadata": {},
   "outputs": [
    {
     "name": "stdout",
     "output_type": "stream",
     "text": [
      "Vector u is:\n",
      "[1 1 1]\n"
     ]
    }
   ],
   "source": [
    "m = 3\n",
    "u = Matrix([[1] * m])\n",
    "print 'Vector u is:'\n",
    "print u"
   ]
  },
  {
   "cell_type": "code",
   "execution_count": 80,
   "metadata": {},
   "outputs": [
    {
     "name": "stdout",
     "output_type": "stream",
     "text": [
      "cost =  133/18 = 7.38888888889\n",
      "x =  (19/54, 10/27, 5/18)\n",
      "y =  (13/36, 1/12, 5/9)\n"
     ]
    }
   ],
   "source": [
    "cost = 1 / (u * C.inverse() * u.transpose())\n",
    "print \"cost = \", cost[0][0], '=', float(cost[0][0])\n",
    "x = cost * (u * C.inverse())\n",
    "print 'x = ', x.row(0)\n",
    "y = (C.inverse() * u.transpose()) * cost\n",
    "print 'y = ', y.column(0)"
   ]
  },
  {
   "cell_type": "code",
   "execution_count": 81,
   "metadata": {},
   "outputs": [
    {
     "name": "stdout",
     "output_type": "stream",
     "text": [
      "[0.35185185185185186, 0.37037037037037035, 0.2777777777777778]\n",
      "[0.3611111111111111, 0.08333333333333333, 0.5555555555555556]\n"
     ]
    }
   ],
   "source": [
    "x = list(x.row(0))\n",
    "y = list(y.column(0))\n",
    "\n",
    "x = [float(i) for i in x]\n",
    "y = [float(i) for i in y]\n",
    "\n",
    "print x\n",
    "print y"
   ]
  },
  {
   "cell_type": "code",
   "execution_count": null,
   "metadata": {},
   "outputs": [],
   "source": []
  },
  {
   "cell_type": "code",
   "execution_count": null,
   "metadata": {},
   "outputs": [],
   "source": []
  }
 ],
 "metadata": {
  "kernelspec": {
   "display_name": "SageMath 8.9",
   "language": "sage",
   "name": "sagemath"
  },
  "language_info": {
   "codemirror_mode": {
    "name": "ipython",
    "version": 2
   },
   "file_extension": ".py",
   "mimetype": "text/x-python",
   "name": "python",
   "nbconvert_exporter": "python",
   "pygments_lexer": "ipython2",
   "version": "2.7.15"
  }
 },
 "nbformat": 4,
 "nbformat_minor": 2
}
